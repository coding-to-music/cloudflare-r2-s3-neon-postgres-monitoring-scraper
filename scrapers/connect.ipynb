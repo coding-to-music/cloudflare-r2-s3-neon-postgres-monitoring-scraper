{
 "cells": [
  {
   "cell_type": "code",
   "execution_count": 1,
   "metadata": {},
   "outputs": [
    {
     "name": "stdout",
     "output_type": "stream",
     "text": [
      "2023-06-14 14:55:13.124589\n"
     ]
    }
   ],
   "source": [
    "import pandas as pd\n",
    "import datetime as datetime\n",
    "import pprint\n",
    "import os\n",
    "import psycopg2\n",
    "import requests\n",
    "import boto3\n",
    "import dotenv\n",
    "from requests import get \n",
    "from bs4 import BeautifulSoup\n",
    "from urllib.parse import urlparse, parse_qs, urlunparse\n",
    "from bson.json_util import dumps\n",
    "from IPython.display import display, Image\n",
    "from IPython.display import HTML\n",
    "\n",
    "# An example of getting current date\n",
    "\n",
    "currDate = datetime.datetime.now()\n",
    " \n",
    "print(currDate)"
   ]
  },
  {
   "cell_type": "code",
   "execution_count": 2,
   "metadata": {},
   "outputs": [],
   "source": [
    "# Load the environment variables from the .env file\n",
    "dotenv.load_dotenv()\n",
    "\n",
    "scrape_url = os.getenv('SCRAPE_URL')\n",
    "# print(scrape_url)\n",
    "\n",
    "POSTGRES_URL = os.environ.get('POSTGRES_URL')\n",
    "FINAL_POSTGRES_URL = os.environ.get('FINAL_POSTGRES_URL')\n",
    "\n",
    "# print(POSTGRES_URL)\n",
    "# print(FINAL_POSTGRES_URL)\n"
   ]
  },
  {
   "cell_type": "code",
   "execution_count": 3,
   "metadata": {},
   "outputs": [
    {
     "name": "stdout",
     "output_type": "stream",
     "text": [
      "Connection to PostgreSQL DB successful\n",
      "Query result: (datetime.date(2023, 6, 14),)\n"
     ]
    }
   ],
   "source": [
    "import psycopg2\n",
    "from psycopg2 import OperationalError\n",
    "\n",
    "def create_connection(url):\n",
    "    conn = None\n",
    "    try:\n",
    "        conn = psycopg2.connect(url)\n",
    "        print(\"Connection to PostgreSQL DB successful\")\n",
    "    except OperationalError as e:\n",
    "        print(f\"The error '{e}' occurred\")\n",
    "    return conn\n",
    "\n",
    "def execute_query(conn, query):\n",
    "    cursor = conn.cursor()\n",
    "    try:\n",
    "        cursor.execute(query)\n",
    "        result = cursor.fetchone()\n",
    "        print(f\"Query result: {result}\")\n",
    "    except OperationalError as e:\n",
    "        print(f\"The error '{e}' occurred\")\n",
    "\n",
    "if __name__ == \"__main__\":\n",
    "    # raise KeyboardInterrupt\n",
    "    connection_url = FINAL_POSTGRES_URL\n",
    "    # print(FINAL_POSTGRES_URL)\n",
    "    connection = create_connection(connection_url)\n",
    "\n",
    "    if connection:\n",
    "        current_date_query = \"SELECT current_date;\"\n",
    "        execute_query(connection, current_date_query)\n",
    "        connection.close()"
   ]
  }
 ],
 "metadata": {
  "kernelspec": {
   "display_name": "env",
   "language": "python",
   "name": "python3"
  },
  "language_info": {
   "codemirror_mode": {
    "name": "ipython",
    "version": 3
   },
   "file_extension": ".py",
   "mimetype": "text/x-python",
   "name": "python",
   "nbconvert_exporter": "python",
   "pygments_lexer": "ipython3",
   "version": "3.8.10"
  },
  "orig_nbformat": 4
 },
 "nbformat": 4,
 "nbformat_minor": 2
}

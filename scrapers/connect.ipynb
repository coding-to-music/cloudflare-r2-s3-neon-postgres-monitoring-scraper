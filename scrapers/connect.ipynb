{
 "cells": [
  {
   "cell_type": "code",
   "execution_count": 2,
   "metadata": {},
   "outputs": [
    {
     "name": "stdout",
     "output_type": "stream",
     "text": [
      "2023-06-13 21:39:42.478207\n"
     ]
    }
   ],
   "source": [
    "import pandas as pd\n",
    "import datetime as datetime\n",
    "import pprint\n",
    "import os\n",
    "import psycopg2\n",
    "import requests\n",
    "import boto3\n",
    "import dotenv\n",
    "from requests import get \n",
    "from bs4 import BeautifulSoup\n",
    "from urllib.parse import urlparse, parse_qs, urlunparse\n",
    "from bson.json_util import dumps\n",
    "from IPython.display import display, Image\n",
    "from IPython.display import HTML\n",
    "\n",
    "# An example of getting current date\n",
    "\n",
    "currDate = datetime.datetime.now()\n",
    " \n",
    "print(currDate)"
   ]
  },
  {
   "cell_type": "code",
   "execution_count": 5,
   "metadata": {},
   "outputs": [],
   "source": [
    "# Load the environment variables from the .env file\n",
    "dotenv.load_dotenv()\n",
    "\n",
    "scrape_url = os.getenv('SCRAPE_URL')\n",
    "# print(scrape_url)\n",
    "\n",
    "POSTGRES_URL = os.environ.get('POSTGRES_URL')\n",
    "# print(POSTGRES_URL)\n"
   ]
  },
  {
   "cell_type": "code",
   "execution_count": 7,
   "metadata": {},
   "outputs": [
    {
     "ename": "KeyboardInterrupt",
     "evalue": "",
     "output_type": "error",
     "traceback": [
      "\u001b[0;31m---------------------------------------------------------------------------\u001b[0m",
      "\u001b[0;31mKeyboardInterrupt\u001b[0m                         Traceback (most recent call last)",
      "Cell \u001b[0;32mIn[7], line 33\u001b[0m\n\u001b[1;32m     28\u001b[0m POSTGRES_URL \u001b[39m+\u001b[39m\u001b[39m=\u001b[39m \u001b[39m\"\u001b[39m\u001b[39m?sslmode=require\u001b[39m\u001b[39m\"\u001b[39m\n\u001b[1;32m     30\u001b[0m \u001b[39m# print(POSTGRES_URL)\u001b[39;00m\n\u001b[1;32m     31\u001b[0m \n\u001b[1;32m     32\u001b[0m \u001b[39m# Insert keyboard interrupt to stop the execution\u001b[39;00m\n\u001b[0;32m---> 33\u001b[0m \u001b[39mraise\u001b[39;00m \u001b[39mKeyboardInterrupt\u001b[39;00m\n\u001b[1;32m     35\u001b[0m conn \u001b[39m=\u001b[39m psycopg2\u001b[39m.\u001b[39mconnect(POSTGRES_URL)\n\u001b[1;32m     37\u001b[0m cursor \u001b[39m=\u001b[39m conn\u001b[39m.\u001b[39mcursor()\n",
      "\u001b[0;31mKeyboardInterrupt\u001b[0m: "
     ]
    }
   ],
   "source": [
    "import requests\n",
    "from bs4 import BeautifulSoup\n",
    "import psycopg2\n",
    "from datetime import datetime\n",
    "\n",
    "# Make a request to the webpage\n",
    "# url = \"https://www.example.com\"  # Replace with your desired webpage URL\n",
    "response = requests.get(scrape_url)\n",
    "\n",
    "# Create BeautifulSoup object\n",
    "soup = BeautifulSoup(response.text, \"html.parser\")\n",
    "\n",
    "# Find all the lines (within <a> tags) in the webpage\n",
    "lines = soup.find_all(\"a\")\n",
    "\n",
    "# Connect to the PostgreSQL database\n",
    "# conn = psycopg2.connect(\n",
    "#     host=\"your_host\",\n",
    "#     database=\"your_database\",\n",
    "#     user=\"your_user\",\n",
    "#     password=\"your_password\"\n",
    "# )\n",
    "\n",
    "POSTGRES_URL = os.environ.get('POSTGRES_URL')\n",
    "# print(POSTGRES_URL)\n",
    "\n",
    "# Add 'sslmode=require' to the connection URL\n",
    "POSTGRES_URL += \"?sslmode=require\"\n",
    "\n",
    "# print(POSTGRES_URL)\n",
    "\n",
    "# Insert keyboard interrupt to stop the execution\n",
    "raise KeyboardInterrupt\n",
    "\n",
    "conn = psycopg2.connect(POSTGRES_URL)\n",
    "\n",
    "cursor = conn.cursor()\n",
    "\n",
    "# Iterate over the lines and insert/update each line into the database\n",
    "for line in lines:\n",
    "    line_content = line.get_text()\n",
    "    line_type = \"Link\"\n",
    "    line_url = line.get(\"href\")\n",
    "    current_datetime = datetime.now()\n",
    "\n",
    "    if line.find(\"img\"):\n",
    "        line_type = \"Image\"\n",
    "\n",
    "    # Upsert the line into the database\n",
    "    query = \"\"\"\n",
    "        INSERT INTO your_table (line_content, line_type, line_url, first_dt, latest_dt)\n",
    "        VALUES (%s, %s, %s, %s, %s)\n",
    "        ON CONFLICT (line_content) DO UPDATE\n",
    "        SET line_type = EXCLUDED.line_type,\n",
    "            line_url = EXCLUDED.line_url,\n",
    "            latest_dt = EXCLUDED.latest_dt\n",
    "        WHERE your_table.latest_dt < EXCLUDED.latest_dt\n",
    "    \"\"\"\n",
    "    data = (line_content, line_type, line_url, current_datetime, current_datetime)\n",
    "    cursor.execute(query, data)\n",
    "\n",
    "# Commit the changes and close the database connection\n",
    "conn.commit()\n",
    "cursor.close()\n",
    "conn.close()\n"
   ]
  }
 ],
 "metadata": {
  "kernelspec": {
   "display_name": "env",
   "language": "python",
   "name": "python3"
  },
  "language_info": {
   "codemirror_mode": {
    "name": "ipython",
    "version": 3
   },
   "file_extension": ".py",
   "mimetype": "text/x-python",
   "name": "python",
   "nbconvert_exporter": "python",
   "pygments_lexer": "ipython3",
   "version": "3.8.10"
  },
  "orig_nbformat": 4
 },
 "nbformat": 4,
 "nbformat_minor": 2
}
